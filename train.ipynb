{
 "cells": [
  {
   "cell_type": "markdown",
   "metadata": {},
   "source": [
    "## Import librerie e oggetti\n",
    "* **pandas** per la manipolazione dei dati in formato tabellare \n",
    "* **sklearn (Scikit-learn)** per l'utilizzo di algoritmi di apprendimento\n",
    "    * *LabelEncoder*, strumento ausialiario per convertire i valori delle categorie in altri di tipo numerico.\n",
    "    * *KNeighborsClassifier*, classificatore che implementa il k-nearest neighbors\n",
    "    * *classification_report*, strumento ausliario per stampare report relativo al classificatore\n",
    "* **<item.csv>** file csv contenente i dati di train/test"
   ]
  },
  {
   "cell_type": "code",
   "execution_count": null,
   "metadata": {},
   "outputs": [],
   "source": [
    "!sudo apt update && sudo apt install -y graphviz"
   ]
  },
  {
   "cell_type": "code",
   "execution_count": null,
   "metadata": {},
   "outputs": [],
   "source": [
    "!pip install graphviz\n",
    "!pip install mglearn\n",
    "!pip install scikit-learn=='0.24.1'"
   ]
  },
  {
   "cell_type": "code",
   "execution_count": null,
   "metadata": {},
   "outputs": [],
   "source": [
    "import pandas as pd\n",
    "from sklearn.preprocessing import LabelEncoder\n",
    "from sklearn.neighbors import KNeighborsClassifier\n",
    "from sklearn.metrics import classification_report"
   ]
  },
  {
   "cell_type": "code",
   "execution_count": null,
   "metadata": {},
   "outputs": [],
   "source": [
    "#importa i csv\n",
    "dataframe_train = pd.read_csv('train.csv', error_bad_lines=False,dtype=str)\n",
    "dataframe_test = pd.read_csv('test.csv', error_bad_lines=False,dtype=str)"
   ]
  },
  {
   "cell_type": "markdown",
   "metadata": {},
   "source": [
    "## Pre-processing\n",
    "Prima di effettuare l'addestramento del modello, lo si preparara.<br>\n",
    "Due operazioni eseguite in questo caso:\n",
    "* **encoding** dei campi di ogni ennupla in valori numerici\n",
    "* **split** dei dati tra feature(X_...) e valore atteso(y_...)"
   ]
  },
  {
   "cell_type": "code",
   "execution_count": null,
   "metadata": {},
   "outputs": [],
   "source": [
    "#effettua l'encoding dei dataframe da valori espressi in string a valori espressi in int\n",
    "le = LabelEncoder()\n",
    "dataframe_train_encoded = dataframe_train.apply(le.fit_transform)\n",
    "dataframe_test_encoded = dataframe_test.apply(le.fit_transform)"
   ]
  },
  {
   "cell_type": "code",
   "execution_count": null,
   "metadata": {},
   "outputs": [],
   "source": [
    "#splitta i dati di train per avere feature (X_train) e target (y_train)\n",
    "y_train = dataframe_train_encoded.pop('class')\n",
    "X_train = dataframe_train_encoded\n",
    "\n",
    "#splitta i dati di test per avere feature (X_test) e target (y_train)\n",
    "y_test = dataframe_test_encoded.pop('class')\n",
    "X_test = dataframe_test_encoded"
   ]
  },
  {
   "cell_type": "markdown",
   "metadata": {},
   "source": [
    "## k-Nearest Neighbours\n",
    "Applica l'algoritmo **k-NN** per classificare i punti del dataset.<br>\n",
    "Scelta del *n_neighbors=1* motivata dall'analisi dell'esecuzione di questa porzione di codice.<br>\n",
    "É sostanzialmente una soluzione di bruteforce - testando con 10 valori diversi di *k* si sceglie il giusto compromesso tra testing e training Accuracy\n",
    "\n",
    "```Python\n",
    "import numpy as np\n",
    "import matplotlib.pyplot as plot\n",
    "neighbors = np.arange(1, 10)\n",
    "train_accuracy = np.empty(len(neighbors))\n",
    "test_accuracy = np.empty(len(neighbors))\n",
    "\n",
    "# Loop over K values\n",
    "for i, k in enumerate(neighbors):\n",
    "    knn = KNeighborsClassifier(n_neighbors=k)\n",
    "    knn.fit(X_train, y_train)\n",
    "      \n",
    "    train_accuracy[i] = knn.score(X_train, y_train)\n",
    "    test_accuracy[i] = knn.score(X_test, y_test)\n",
    "  \n",
    "# Generate plot\n",
    "plt.plot(neighbors, test_accuracy, label = 'Testing dataset Accuracy')\n",
    "plt.plot(neighbors, train_accuracy, label = 'Training dataset Accuracy')\n",
    "  \n",
    "plot.legend()\n",
    "plot.xlabel('n_neighbors')\n",
    "plot.ylabel('Accuracy')\n",
    "plt.show()\n",
    "```"
   ]
  },
  {
   "cell_type": "code",
   "execution_count": null,
   "metadata": {},
   "outputs": [],
   "source": [
    "# acquisisci il classificatore\n",
    "clf = KNeighborsClassifier(n_neighbors=1)"
   ]
  },
  {
   "cell_type": "code",
   "execution_count": null,
   "metadata": {},
   "outputs": [],
   "source": [
    "# effettua il train\n",
    "clf.fit(X_train, y_train)"
   ]
  },
  {
   "cell_type": "code",
   "execution_count": null,
   "metadata": {},
   "outputs": [],
   "source": [
    "#visualizza accuratezza\n",
    "print(\"Test set accuracy: {:.3f}\".format(clf.score(X_test, y_test)))"
   ]
  }
 ],
 "metadata": {
  "kernelspec": {
   "display_name": "Python 3",
   "language": "python",
   "name": "python3"
  },
  "language_info": {
   "codemirror_mode": {
    "name": "ipython",
    "version": 3
   },
   "file_extension": ".py",
   "mimetype": "text/x-python",
   "name": "python",
   "nbconvert_exporter": "python",
   "pygments_lexer": "ipython3",
   "version": "3.7.6"
  }
 },
 "nbformat": 4,
 "nbformat_minor": 4
}
